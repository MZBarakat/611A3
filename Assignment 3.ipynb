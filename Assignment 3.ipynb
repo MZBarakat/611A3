{
 "cells": [
  {
   "cell_type": "markdown",
   "id": "92778525",
   "metadata": {},
   "source": [
    "# Assignment 3: Non-Linear Models and Validation Metrics (37 total marks)\n",
    "### Due: October 24 at 11:59pm\n",
    "\n",
    "### Name: Moaz Barakat"
   ]
  },
  {
   "cell_type": "markdown",
   "id": "ce31b39a",
   "metadata": {},
   "source": [
    "### In this assignment, you will need to write code that uses non-linear models to perform classification and regression tasks. You will also be asked to describe the process by which you came up with the code. More details can be found below. Please cite any websites or AI tools that you used to help you with this assignment."
   ]
  },
  {
   "cell_type": "markdown",
   "id": "cf275ca7",
   "metadata": {},
   "source": [
    "### Import Libraries"
   ]
  },
  {
   "cell_type": "code",
   "execution_count": 1,
   "id": "2b67a661",
   "metadata": {},
   "outputs": [],
   "source": [
    "import numpy as np\n",
    "import pandas as pd\n",
    "import matplotlib.pyplot as plt\n",
    "import seaborn as sns"
   ]
  },
  {
   "cell_type": "markdown",
   "id": "5ee2d2c3",
   "metadata": {},
   "source": [
    "## Part 1: Regression (14.5 marks)\n",
    "\n",
    "For this section, we will be continuing with the concrete example from yellowbrick. You will need to compare these results to the results from the previous assignment. Please use the results from the solution if you were unable to complete Assignment 2"
   ]
  },
  {
   "cell_type": "markdown",
   "id": "8219f163",
   "metadata": {},
   "source": [
    "### Step 1: Data Input (0.5 marks)\n",
    "\n",
    "The data used for this task can be downloaded using the yellowbrick library: \n",
    "https://www.scikit-yb.org/en/latest/api/datasets/concrete.html\n",
    "\n",
    "Use the yellowbrick function `load_concrete()` to load the concrete dataset into the feature matrix `X` and target vector `y`."
   ]
  },
  {
   "cell_type": "code",
   "execution_count": 3,
   "id": "2af8bd32",
   "metadata": {},
   "outputs": [],
   "source": [
    "# TO DO: Import concrete dataset from yellowbrick library\n",
    "from yellowbrick.datasets import load_concrete\n",
    "X, y = load_concrete() "
   ]
  },
  {
   "cell_type": "markdown",
   "id": "42fea4cc",
   "metadata": {},
   "source": [
    "### Step 2: Data Processing (0 marks)\n",
    "\n",
    "Data processing was completed in the previous assignment. No need to repeat here."
   ]
  },
  {
   "cell_type": "markdown",
   "id": "2a245d00",
   "metadata": {},
   "source": [
    "### Step 3: Implement Machine Learning Model\n",
    "\n",
    "1. Import the Decision Tree, Random Forest and Gradient Boosting Machines regression models from sklearn\n",
    "2. Instantiate the three models with `max_depth = 5`. Are there any other parameters that you will need to set?\n",
    "3. Implement each machine learning model with `X` and `y`"
   ]
  },
  {
   "cell_type": "code",
   "execution_count": 62,
   "id": "758d2a3e",
   "metadata": {},
   "outputs": [],
   "source": [
    "#1\n",
    "from sklearn.model_selection import train_test_split\n",
    "\n",
    "from sklearn.tree import DecisionTreeRegressor\n",
    "from sklearn.ensemble import RandomForestRegressor\n",
    "from sklearn.ensemble import GradientBoostingRegressor\n",
    "\n",
    "#2 and #3\n",
    "X_train, X_test, y_train, y_test = train_test_split(X, y, test_size=0.1, random_state=0)\n",
    "\n",
    "tree = DecisionTreeRegressor(max_depth=5,random_state=0).fit(X_train, y_train)\n",
    "# Important RF parameters to consider: random_state, max_depth, n_estimators max_features \n",
    "forest = RandomForestRegressor(max_depth=5,random_state=0, n_estimators=10).fit(X_train, y_train)\n",
    "# Important GB paramerts to consider: random_state, max_depth, learning_rate, n_estimators\n",
    "gradient = GradientBoostingRegressor(max_depth=5,random_state=0, learning_rate=0.05).fit(X_train, y_train)"
   ]
  },
  {
   "cell_type": "markdown",
   "id": "3f994e31",
   "metadata": {},
   "source": [
    "### Step 4: Validate Model\n",
    "\n",
    "Calculate the average training and validation accuracy using mean squared error with cross-validation. To do this, you will need to set `scoring='neg_mean_squared_error'` in your `cross_validate` function and negate the results (multiply by -1)"
   ]
  },
  {
   "cell_type": "code",
   "execution_count": 63,
   "id": "3cb5d3c3",
   "metadata": {},
   "outputs": [
    {
     "name": "stdout",
     "output_type": "stream",
     "text": [
      "\n",
      "Score for DecisionTree\n",
      "training accuracy (cross-validation) 49.863\n",
      "validation accuracy (cross-validation) 79.490\n",
      "\n",
      "Score for Forest\n",
      "training accuracy (cross-validation) 33.355\n",
      "validation accuracy (cross-validation) 53.410\n",
      "\n",
      "Score for Gradient\n",
      "training accuracy (cross-validation) 7.175\n",
      "validation accuracy (cross-validation) 27.184\n"
     ]
    }
   ],
   "source": [
    "from sklearn.model_selection import cross_validate\n",
    "from sklearn.model_selection import cross_val_score\n",
    "\n",
    "def print_accuracy_validation(name, model, X_train, y_train, cv_scoring, negate): #Prints and returns the training and validation scores \n",
    "    print(\"\\nScore for\", name)\n",
    "\n",
    "    scores = cross_validate(model, X_train, y_train, cv=5, scoring=cv_scoring,  return_train_score=True)\n",
    "\n",
    "    print('training accuracy (cross-validation) {:.3f}'.format(scores['train_score'].mean() * negate))\n",
    "    print('validation accuracy (cross-validation) {:.3f}'.format(scores['test_score'].mean() * negate))\n",
    "    return scores['train_score'].mean() * negate, scores['test_score'].mean() * negate #Note: return values used in step 5\n",
    "\n",
    "ta_1, va_1 = print_accuracy_validation(\"DecisionTree\", model=tree, X_train=X_train, y_train=y_train, cv_scoring='neg_mean_squared_error',negate=-1)\n",
    "ta_2, va_2 = print_accuracy_validation(\"Forest\", model=forest, X_train=X_train, y_train=y_train, cv_scoring='neg_mean_squared_error',negate=-1)\n",
    "ta_3, va_3 = print_accuracy_validation(\"Gradient\", model=gradient, X_train=X_train, y_train=y_train, cv_scoring='neg_mean_squared_error',negate=-1)\n",
    "\n",
    "#Real tests, not cross validated\n",
    "#val1_p = tree.score(X_test, y_test) \n",
    "#val2_p = forest.score(X_test, y_test)\n",
    "#val3_p = gradient.score(X_test, y_test)\n",
    "\n"
   ]
  },
  {
   "cell_type": "markdown",
   "id": "5fc3f7a8",
   "metadata": {},
   "source": [
    "### Step 5: Visualize Results (4 marks)\n",
    "\n",
    "1. Create a pandas DataFrame `results` with columns: Training accuracy and Validation accuracy, and index: DT, RF and GB\n",
    "2. Add the accuracy results to the `results` DataFrame\n",
    "3. Print `results`"
   ]
  },
  {
   "cell_type": "code",
   "execution_count": 64,
   "id": "fdc93a78",
   "metadata": {},
   "outputs": [
    {
     "name": "stdout",
     "output_type": "stream",
     "text": [
      "Scoring: MSE\n"
     ]
    },
    {
     "data": {
      "text/html": [
       "<div>\n",
       "<style scoped>\n",
       "    .dataframe tbody tr th:only-of-type {\n",
       "        vertical-align: middle;\n",
       "    }\n",
       "\n",
       "    .dataframe tbody tr th {\n",
       "        vertical-align: top;\n",
       "    }\n",
       "\n",
       "    .dataframe thead th {\n",
       "        text-align: right;\n",
       "    }\n",
       "</style>\n",
       "<table border=\"1\" class=\"dataframe\">\n",
       "  <thead>\n",
       "    <tr style=\"text-align: right;\">\n",
       "      <th></th>\n",
       "      <th>Training accuracy</th>\n",
       "      <th>Validation accuracy</th>\n",
       "    </tr>\n",
       "  </thead>\n",
       "  <tbody>\n",
       "    <tr>\n",
       "      <th>DT</th>\n",
       "      <td>49.862596</td>\n",
       "      <td>79.490160</td>\n",
       "    </tr>\n",
       "    <tr>\n",
       "      <th>RF</th>\n",
       "      <td>33.355207</td>\n",
       "      <td>53.409972</td>\n",
       "    </tr>\n",
       "    <tr>\n",
       "      <th>GB</th>\n",
       "      <td>7.175423</td>\n",
       "      <td>27.184409</td>\n",
       "    </tr>\n",
       "  </tbody>\n",
       "</table>\n",
       "</div>"
      ],
      "text/plain": [
       "    Training accuracy  Validation accuracy\n",
       "DT          49.862596            79.490160\n",
       "RF          33.355207            53.409972\n",
       "GB           7.175423            27.184409"
      ]
     },
     "execution_count": 64,
     "metadata": {},
     "output_type": "execute_result"
    }
   ],
   "source": [
    "# TO DO: ADD YOUR CODE HERE FOR STEPS 5\n",
    "# Note: for any random state parameters, you can use random_state = 0\n",
    "#5.2, HINT: USING A LOOP TO STORE THE DATA IN YOUR RESULTS DATAFRAME WILL BE MORE EFFICIENT\n",
    "\n",
    "mse_results_list = [[ta_1, va_1],[ta_2,va_2],[ta_3,va_3]]\n",
    "results = pd.DataFrame(mse_results_list,columns=[\"Training accuracy\", \"Validation accuracy\"], index=['DT', 'RF', 'GB'])\n",
    "print(\"Scoring: MSE\")\n",
    "results\n",
    "# HINT: USING A LOOP TO STORE THE DATA IN YOUR RESULTS DATAFRAME WILL BE MORE EFFICIENT"
   ]
  },
  {
   "cell_type": "markdown",
   "id": "31715a9d",
   "metadata": {},
   "source": [
    "Repeat the step above to print the R2 score instead of the mean-squared error. For this case, you can use `scoring='r2'`"
   ]
  },
  {
   "cell_type": "code",
   "execution_count": 65,
   "id": "83539f47",
   "metadata": {},
   "outputs": [
    {
     "name": "stdout",
     "output_type": "stream",
     "text": [
      "\n",
      "Score for DecisionTree\n",
      "training accuracy (cross-validation) 0.821\n",
      "validation accuracy (cross-validation) 0.711\n",
      "\n",
      "Score for Forest\n",
      "training accuracy (cross-validation) 0.880\n",
      "validation accuracy (cross-validation) 0.808\n",
      "\n",
      "Score for Gradient\n",
      "training accuracy (cross-validation) 0.974\n",
      "validation accuracy (cross-validation) 0.902\n",
      "\n",
      "Scoring: R2\n"
     ]
    },
    {
     "data": {
      "text/html": [
       "<div>\n",
       "<style scoped>\n",
       "    .dataframe tbody tr th:only-of-type {\n",
       "        vertical-align: middle;\n",
       "    }\n",
       "\n",
       "    .dataframe tbody tr th {\n",
       "        vertical-align: top;\n",
       "    }\n",
       "\n",
       "    .dataframe thead th {\n",
       "        text-align: right;\n",
       "    }\n",
       "</style>\n",
       "<table border=\"1\" class=\"dataframe\">\n",
       "  <thead>\n",
       "    <tr style=\"text-align: right;\">\n",
       "      <th></th>\n",
       "      <th>Training accuracy</th>\n",
       "      <th>Validation accuracy</th>\n",
       "    </tr>\n",
       "  </thead>\n",
       "  <tbody>\n",
       "    <tr>\n",
       "      <th>DT</th>\n",
       "      <td>0.821295</td>\n",
       "      <td>0.710786</td>\n",
       "    </tr>\n",
       "    <tr>\n",
       "      <th>RF</th>\n",
       "      <td>0.880495</td>\n",
       "      <td>0.807792</td>\n",
       "    </tr>\n",
       "    <tr>\n",
       "      <th>GB</th>\n",
       "      <td>0.974308</td>\n",
       "      <td>0.901926</td>\n",
       "    </tr>\n",
       "  </tbody>\n",
       "</table>\n",
       "</div>"
      ],
      "text/plain": [
       "    Training accuracy  Validation accuracy\n",
       "DT           0.821295             0.710786\n",
       "RF           0.880495             0.807792\n",
       "GB           0.974308             0.901926"
      ]
     },
     "execution_count": 65,
     "metadata": {},
     "output_type": "execute_result"
    }
   ],
   "source": [
    "# Note function created at top simplifies code for this step\n",
    "tar_1, var_1 = print_accuracy_validation(\"DecisionTree\", model=tree, X_train=X_train, y_train=y_train, cv_scoring='r2',negate=1)\n",
    "tar_2, var_2 = print_accuracy_validation(\"Forest\", model=forest, X_train=X_train, y_train=y_train, cv_scoring='r2',negate=1)\n",
    "tar_3, var_3 = print_accuracy_validation(\"Gradient\", model=gradient, X_train=X_train, y_train=y_train, cv_scoring='r2', negate=1)\n",
    "\n",
    "r2_results_list = [[tar_1, var_1],[tar_2,var_2],[tar_3,var_3]]\n",
    "results = pd.DataFrame(r2_results_list,columns=[\"Training accuracy\", \"Validation accuracy\"], index=['DT', 'RF', 'GB'])\n",
    "print(\"\\nScoring: R2\")\n",
    "results"
   ]
  },
  {
   "cell_type": "markdown",
   "id": "a5257a98",
   "metadata": {},
   "source": [
    "### Questions (6 marks)\n",
    "1. How do these results compare to the results using a linear model in the previous assignment? Use values.\n",
    "1. Out of the models you tested, which model would you select for this dataset and why?\n",
    "1. If you wanted to increase the accuracy of the tree-based models, what would you do? Provide two suggestions.\n",
    "\n",
    "*ANSWER HERE*\n",
    "\n",
    "1. From assignment 2 solution, the concrete dataset had a MSE ~`110.35/95.64` and a R2 ~`0.61/0.64` for training and validation accuracy respectively using the **linear** regression model. In contrast, using **non-linear** models all resulted in a better score as shown in the table(s) above (E.g `>0.64` R2).  Generally speaking: the higher the R2 the better (ideal value = 1) and the lower the MSE the better (ideal value = 0). We can see that the score for the non-linear model is much better than the linear model. \n",
    "\n",
    "Comparison of the models is outlined below:\n",
    "  - DT: Performed better than linear (from assignment 2)\n",
    "  - RF: Performed better than DT (evident from both MSE/R2 score)\n",
    "  - GB: Performed better than RF (evident from both MSE/R2 score)\n",
    "\n",
    "Additionally, the compressive strength is complex and nonlinear feature in nature, it makes sense that the non-linear model would do better than the linear model\n",
    "\n",
    "2. Based on the result, the validation accuracy of GB yielded the highest result. I would personally choose the GB model over the DT and RF. One thing to note is that the GB might be overfitting since the training accuracy is very close to 1. The parameters of GB can be fine-tuned/pre-pruned to resolve this issue.\n",
    "\n",
    "3. To increase the accuracy, we can fine tune the hyper parameters of the tree models and increase the complexity. Below are suggestions for each tree:\n",
    " - DT: Increase  max_depth, increase max_features\n",
    " - RF: Increase  max_depth, increase n_estimators\n",
    " - RF: Increase  max_depth, increase learning_rate\n",
    "\n",
    " More generally, we can use Grid Search to find the optimal hyper parameters\n",
    " "
   ]
  },
  {
   "cell_type": "markdown",
   "id": "37b238f4",
   "metadata": {},
   "source": [
    "### Process Description (4 marks)\n",
    "Please describe the process you used to create your code. Cite any websites or generative AI tools used. You can use the following questions as guidance:\n",
    "1. Where did you source your code?\n",
    "1. In what order did you complete the steps?\n",
    "1. If you used generative AI, what prompts did you use? Did you need to modify the code at all? Why or why not?\n",
    "1. Did you have any challenges? If yes, what were they? If not, what helped you to be successful?"
   ]
  },
  {
   "cell_type": "markdown",
   "id": "93097bfe",
   "metadata": {},
   "source": [
    "*DESCRIBE YOUR PROCESS HERE*\n",
    "\n",
    "1. Where did you source your code?\n",
    " - Code is based on a combination of lectures examples and documentation from scikit learn\n",
    "  - Lecture slides adopted from: <cite>Introduction to Machine Learning with Python, Müller and Guido, 1st ed, 2016 https://github.com/amueller/introduction_to_ml_with_python</cite>\n",
    "  - Scikit learn general documentation available at: <cite> https://scikit-learn.org/stable/ </cite>\n",
    "  - Concrete dataset: <cite> https://www.scikit-yb.org/en/latest/api/datasets/concrete.html </cite>\n",
    "2. In what order did you complete the steps?\n",
    "  - The order of the steps was done as per the assignment, steps 1-5 as it seemed logically\n",
    "3. If you used generative AI, what prompts did you use? Did you need to modify the code at all? Why or why not?\n",
    "  - Similar to assignment 2, I explicitly avoided using any generative AI throughout this process so I can learn while doing the assignment\n",
    "4. Did you have any challenges? If yes, what were they? If not, what helped you to be successful?\n",
    "  - No major challenges, examples on D2L really helped me a lot. "
   ]
  },
  {
   "cell_type": "markdown",
   "id": "f7c6de86",
   "metadata": {},
   "source": [
    "## Part 2: Classification (17.5 marks)\n",
    "\n",
    "You have been asked to develop code that can help the user classify different wine samples. Following the machine learning workflow described in class, write the relevant code in each of the steps below:"
   ]
  },
  {
   "cell_type": "markdown",
   "id": "5f9d33a8",
   "metadata": {},
   "source": [
    "### Step 1: Data Input (2 marks)\n",
    "\n",
    "The data used for this task can be downloaded from UCI: https://archive.ics.uci.edu/dataset/109/wine\n",
    "\n",
    "Use the pandas library to load the dataset. You must define the column headers if they are not included in the dataset \n",
    "\n",
    "You will need to split the dataset into feature matrix `X` and target vector `y`. Which column represents the target vector?\n",
    "\n",
    "Print the size and type of `X` and `y`"
   ]
  },
  {
   "cell_type": "code",
   "execution_count": 111,
   "id": "33583c67",
   "metadata": {},
   "outputs": [
    {
     "name": "stdout",
     "output_type": "stream",
     "text": [
      "X Size:  2314 , Shape:  (178, 13)\n",
      "y Size:  178 , Shape:  (178,)\n"
     ]
    }
   ],
   "source": [
    "# TO DO: Import wine dataset\n",
    "#import pandas as pd\n",
    "col_names = [\"Class\", \"Alcohol\", \"Malic acid\", \"Ash\", \"Alcalinity of ash\", \"Magnesium\", \"Total phenols\", \n",
    "             \"Flavanoids\", \"Nonflavanoid phenols\", \"Proanthocyanins\", \"Color intensity\", \"Hue\",\n",
    "             \"OD280/OD315 of diluted wines\", \"Proline\"]\n",
    "\n",
    "wine_df = pd.read_csv(\"wine_ds/wine.data\", names=col_names)\n",
    "\n",
    "#Target is the class of wine\n",
    "X = wine_df.drop(['Class'], axis=1)\n",
    "y = wine_df['Class']\n",
    "\n",
    "print(\"X Size: \", X.size, \", Shape: \", X.shape)\n",
    "print(\"y Size: \", y.size, \", Shape: \", y.shape)\n",
    "#print(X.dtypes)\n",
    "#print(y.dtypes)\n",
    "\n",
    "X_train, X_test, y_train, y_test = train_test_split(X, y, test_size=0.2, random_state=42)\n"
   ]
  },
  {
   "cell_type": "markdown",
   "id": "156db208",
   "metadata": {},
   "source": [
    "### Step 2: Data Processing (1.5 marks)"
   ]
  },
  {
   "cell_type": "markdown",
   "id": "a28af110",
   "metadata": {},
   "source": [
    "Print the first five rows of the dataset to inspect:"
   ]
  },
  {
   "cell_type": "code",
   "execution_count": 114,
   "id": "ea266921",
   "metadata": {},
   "outputs": [
    {
     "data": {
      "text/html": [
       "<div>\n",
       "<style scoped>\n",
       "    .dataframe tbody tr th:only-of-type {\n",
       "        vertical-align: middle;\n",
       "    }\n",
       "\n",
       "    .dataframe tbody tr th {\n",
       "        vertical-align: top;\n",
       "    }\n",
       "\n",
       "    .dataframe thead th {\n",
       "        text-align: right;\n",
       "    }\n",
       "</style>\n",
       "<table border=\"1\" class=\"dataframe\">\n",
       "  <thead>\n",
       "    <tr style=\"text-align: right;\">\n",
       "      <th></th>\n",
       "      <th>Class</th>\n",
       "      <th>Alcohol</th>\n",
       "      <th>Malic acid</th>\n",
       "      <th>Ash</th>\n",
       "      <th>Alcalinity of ash</th>\n",
       "      <th>Magnesium</th>\n",
       "      <th>Total phenols</th>\n",
       "      <th>Flavanoids</th>\n",
       "      <th>Nonflavanoid phenols</th>\n",
       "      <th>Proanthocyanins</th>\n",
       "      <th>Color intensity</th>\n",
       "      <th>Hue</th>\n",
       "      <th>OD280/OD315 of diluted wines</th>\n",
       "      <th>Proline</th>\n",
       "    </tr>\n",
       "  </thead>\n",
       "  <tbody>\n",
       "    <tr>\n",
       "      <th>0</th>\n",
       "      <td>1</td>\n",
       "      <td>14.23</td>\n",
       "      <td>1.71</td>\n",
       "      <td>2.43</td>\n",
       "      <td>15.6</td>\n",
       "      <td>127</td>\n",
       "      <td>2.80</td>\n",
       "      <td>3.06</td>\n",
       "      <td>0.28</td>\n",
       "      <td>2.29</td>\n",
       "      <td>5.64</td>\n",
       "      <td>1.04</td>\n",
       "      <td>3.92</td>\n",
       "      <td>1065</td>\n",
       "    </tr>\n",
       "    <tr>\n",
       "      <th>1</th>\n",
       "      <td>1</td>\n",
       "      <td>13.20</td>\n",
       "      <td>1.78</td>\n",
       "      <td>2.14</td>\n",
       "      <td>11.2</td>\n",
       "      <td>100</td>\n",
       "      <td>2.65</td>\n",
       "      <td>2.76</td>\n",
       "      <td>0.26</td>\n",
       "      <td>1.28</td>\n",
       "      <td>4.38</td>\n",
       "      <td>1.05</td>\n",
       "      <td>3.40</td>\n",
       "      <td>1050</td>\n",
       "    </tr>\n",
       "    <tr>\n",
       "      <th>2</th>\n",
       "      <td>1</td>\n",
       "      <td>13.16</td>\n",
       "      <td>2.36</td>\n",
       "      <td>2.67</td>\n",
       "      <td>18.6</td>\n",
       "      <td>101</td>\n",
       "      <td>2.80</td>\n",
       "      <td>3.24</td>\n",
       "      <td>0.30</td>\n",
       "      <td>2.81</td>\n",
       "      <td>5.68</td>\n",
       "      <td>1.03</td>\n",
       "      <td>3.17</td>\n",
       "      <td>1185</td>\n",
       "    </tr>\n",
       "    <tr>\n",
       "      <th>3</th>\n",
       "      <td>1</td>\n",
       "      <td>14.37</td>\n",
       "      <td>1.95</td>\n",
       "      <td>2.50</td>\n",
       "      <td>16.8</td>\n",
       "      <td>113</td>\n",
       "      <td>3.85</td>\n",
       "      <td>3.49</td>\n",
       "      <td>0.24</td>\n",
       "      <td>2.18</td>\n",
       "      <td>7.80</td>\n",
       "      <td>0.86</td>\n",
       "      <td>3.45</td>\n",
       "      <td>1480</td>\n",
       "    </tr>\n",
       "    <tr>\n",
       "      <th>4</th>\n",
       "      <td>1</td>\n",
       "      <td>13.24</td>\n",
       "      <td>2.59</td>\n",
       "      <td>2.87</td>\n",
       "      <td>21.0</td>\n",
       "      <td>118</td>\n",
       "      <td>2.80</td>\n",
       "      <td>2.69</td>\n",
       "      <td>0.39</td>\n",
       "      <td>1.82</td>\n",
       "      <td>4.32</td>\n",
       "      <td>1.04</td>\n",
       "      <td>2.93</td>\n",
       "      <td>735</td>\n",
       "    </tr>\n",
       "  </tbody>\n",
       "</table>\n",
       "</div>"
      ],
      "text/plain": [
       "   Class  Alcohol  Malic acid   Ash  Alcalinity of ash  Magnesium  \\\n",
       "0      1    14.23        1.71  2.43               15.6        127   \n",
       "1      1    13.20        1.78  2.14               11.2        100   \n",
       "2      1    13.16        2.36  2.67               18.6        101   \n",
       "3      1    14.37        1.95  2.50               16.8        113   \n",
       "4      1    13.24        2.59  2.87               21.0        118   \n",
       "\n",
       "   Total phenols  Flavanoids  Nonflavanoid phenols  Proanthocyanins  \\\n",
       "0           2.80        3.06                  0.28             2.29   \n",
       "1           2.65        2.76                  0.26             1.28   \n",
       "2           2.80        3.24                  0.30             2.81   \n",
       "3           3.85        3.49                  0.24             2.18   \n",
       "4           2.80        2.69                  0.39             1.82   \n",
       "\n",
       "   Color intensity   Hue  OD280/OD315 of diluted wines  Proline  \n",
       "0             5.64  1.04                          3.92     1065  \n",
       "1             4.38  1.05                          3.40     1050  \n",
       "2             5.68  1.03                          3.17     1185  \n",
       "3             7.80  0.86                          3.45     1480  \n",
       "4             4.32  1.04                          2.93      735  "
      ]
     },
     "execution_count": 114,
     "metadata": {},
     "output_type": "execute_result"
    }
   ],
   "source": [
    "# TO DO: ADD YOUR CODE HERE\n",
    "wine_df.head()"
   ]
  },
  {
   "cell_type": "markdown",
   "id": "834fc8fe",
   "metadata": {},
   "source": [
    "Check to see if there are any missing values in the dataset. If necessary, select an appropriate method to fill-in the missing values"
   ]
  },
  {
   "cell_type": "code",
   "execution_count": 115,
   "id": "97c6e9dc",
   "metadata": {},
   "outputs": [
    {
     "name": "stdout",
     "output_type": "stream",
     "text": [
      "Alcohol                         0\n",
      "Malic acid                      0\n",
      "Ash                             0\n",
      "Alcalinity of ash               0\n",
      "Magnesium                       0\n",
      "Total phenols                   0\n",
      "Flavanoids                      0\n",
      "Nonflavanoid phenols            0\n",
      "Proanthocyanins                 0\n",
      "Color intensity                 0\n",
      "Hue                             0\n",
      "OD280/OD315 of diluted wines    0\n",
      "Proline                         0\n",
      "dtype: int64\n",
      "<bound method NDFrame._add_numeric_operations.<locals>.sum of 0      False\n",
      "113    False\n",
      "114    False\n",
      "115    False\n",
      "116    False\n",
      "       ...  \n",
      "62     False\n",
      "63     False\n",
      "64     False\n",
      "44     False\n",
      "177    False\n",
      "Name: Class, Length: 178, dtype: bool>\n"
     ]
    }
   ],
   "source": [
    "# TO DO: ADD YOUR CODE HERE\n",
    "nullsX = X.isnull().sum().sort_values(ascending=False)\n",
    "nullsy = y.isnull().sort_values().sum\n",
    "print(nullsX) #Note: no nulls confirmed\n",
    "print(nullsy) #Note: no nulls confirmed"
   ]
  },
  {
   "cell_type": "markdown",
   "id": "070956af",
   "metadata": {},
   "source": [
    "How many samples do we have of each type of wine?"
   ]
  },
  {
   "cell_type": "code",
   "execution_count": 126,
   "id": "b37a6fd9",
   "metadata": {},
   "outputs": [
    {
     "data": {
      "text/plain": [
       "Class\n",
       "1    59\n",
       "2    71\n",
       "3    48\n",
       "dtype: int64"
      ]
     },
     "execution_count": 126,
     "metadata": {},
     "output_type": "execute_result"
    }
   ],
   "source": [
    "# TO DO: ADD YOUR CODE HERE\n",
    "class_samples = wine_df.groupby(['Class']).size()\n",
    "class_samples\n"
   ]
  },
  {
   "cell_type": "markdown",
   "id": "70e6c46f",
   "metadata": {},
   "source": [
    "### Step 3: Implement Machine Learning Model\n",
    "\n",
    "1. Import `SVC` and `DecisionTreeClassifier` from sklearn\n",
    "2. Instantiate models as `SVC()` and `DecisionTreeClassifier(max_depth = 3)`\n",
    "3. Implement the machine learning model with `X` and `y`"
   ]
  },
  {
   "cell_type": "code",
   "execution_count": 133,
   "id": "1a3055ee",
   "metadata": {},
   "outputs": [
    {
     "data": {
      "text/html": [
       "<style>#sk-container-id-2 {color: black;background-color: white;}#sk-container-id-2 pre{padding: 0;}#sk-container-id-2 div.sk-toggleable {background-color: white;}#sk-container-id-2 label.sk-toggleable__label {cursor: pointer;display: block;width: 100%;margin-bottom: 0;padding: 0.3em;box-sizing: border-box;text-align: center;}#sk-container-id-2 label.sk-toggleable__label-arrow:before {content: \"▸\";float: left;margin-right: 0.25em;color: #696969;}#sk-container-id-2 label.sk-toggleable__label-arrow:hover:before {color: black;}#sk-container-id-2 div.sk-estimator:hover label.sk-toggleable__label-arrow:before {color: black;}#sk-container-id-2 div.sk-toggleable__content {max-height: 0;max-width: 0;overflow: hidden;text-align: left;background-color: #f0f8ff;}#sk-container-id-2 div.sk-toggleable__content pre {margin: 0.2em;color: black;border-radius: 0.25em;background-color: #f0f8ff;}#sk-container-id-2 input.sk-toggleable__control:checked~div.sk-toggleable__content {max-height: 200px;max-width: 100%;overflow: auto;}#sk-container-id-2 input.sk-toggleable__control:checked~label.sk-toggleable__label-arrow:before {content: \"▾\";}#sk-container-id-2 div.sk-estimator input.sk-toggleable__control:checked~label.sk-toggleable__label {background-color: #d4ebff;}#sk-container-id-2 div.sk-label input.sk-toggleable__control:checked~label.sk-toggleable__label {background-color: #d4ebff;}#sk-container-id-2 input.sk-hidden--visually {border: 0;clip: rect(1px 1px 1px 1px);clip: rect(1px, 1px, 1px, 1px);height: 1px;margin: -1px;overflow: hidden;padding: 0;position: absolute;width: 1px;}#sk-container-id-2 div.sk-estimator {font-family: monospace;background-color: #f0f8ff;border: 1px dotted black;border-radius: 0.25em;box-sizing: border-box;margin-bottom: 0.5em;}#sk-container-id-2 div.sk-estimator:hover {background-color: #d4ebff;}#sk-container-id-2 div.sk-parallel-item::after {content: \"\";width: 100%;border-bottom: 1px solid gray;flex-grow: 1;}#sk-container-id-2 div.sk-label:hover label.sk-toggleable__label {background-color: #d4ebff;}#sk-container-id-2 div.sk-serial::before {content: \"\";position: absolute;border-left: 1px solid gray;box-sizing: border-box;top: 0;bottom: 0;left: 50%;z-index: 0;}#sk-container-id-2 div.sk-serial {display: flex;flex-direction: column;align-items: center;background-color: white;padding-right: 0.2em;padding-left: 0.2em;position: relative;}#sk-container-id-2 div.sk-item {position: relative;z-index: 1;}#sk-container-id-2 div.sk-parallel {display: flex;align-items: stretch;justify-content: center;background-color: white;position: relative;}#sk-container-id-2 div.sk-item::before, #sk-container-id-2 div.sk-parallel-item::before {content: \"\";position: absolute;border-left: 1px solid gray;box-sizing: border-box;top: 0;bottom: 0;left: 50%;z-index: -1;}#sk-container-id-2 div.sk-parallel-item {display: flex;flex-direction: column;z-index: 1;position: relative;background-color: white;}#sk-container-id-2 div.sk-parallel-item:first-child::after {align-self: flex-end;width: 50%;}#sk-container-id-2 div.sk-parallel-item:last-child::after {align-self: flex-start;width: 50%;}#sk-container-id-2 div.sk-parallel-item:only-child::after {width: 0;}#sk-container-id-2 div.sk-dashed-wrapped {border: 1px dashed gray;margin: 0 0.4em 0.5em 0.4em;box-sizing: border-box;padding-bottom: 0.4em;background-color: white;}#sk-container-id-2 div.sk-label label {font-family: monospace;font-weight: bold;display: inline-block;line-height: 1.2em;}#sk-container-id-2 div.sk-label-container {text-align: center;}#sk-container-id-2 div.sk-container {/* jupyter's `normalize.less` sets `[hidden] { display: none; }` but bootstrap.min.css set `[hidden] { display: none !important; }` so we also need the `!important` here to be able to override the default hidden behavior on the sphinx rendered scikit-learn.org. See: https://github.com/scikit-learn/scikit-learn/issues/21755 */display: inline-block !important;position: relative;}#sk-container-id-2 div.sk-text-repr-fallback {display: none;}</style><div id=\"sk-container-id-2\" class=\"sk-top-container\"><div class=\"sk-text-repr-fallback\"><pre>DecisionTreeClassifier(max_depth=3, random_state=0)</pre><b>In a Jupyter environment, please rerun this cell to show the HTML representation or trust the notebook. <br />On GitHub, the HTML representation is unable to render, please try loading this page with nbviewer.org.</b></div><div class=\"sk-container\" hidden><div class=\"sk-item\"><div class=\"sk-estimator sk-toggleable\"><input class=\"sk-toggleable__control sk-hidden--visually\" id=\"sk-estimator-id-2\" type=\"checkbox\" checked><label for=\"sk-estimator-id-2\" class=\"sk-toggleable__label sk-toggleable__label-arrow\">DecisionTreeClassifier</label><div class=\"sk-toggleable__content\"><pre>DecisionTreeClassifier(max_depth=3, random_state=0)</pre></div></div></div></div></div>"
      ],
      "text/plain": [
       "DecisionTreeClassifier(max_depth=3, random_state=0)"
      ]
     },
     "execution_count": 133,
     "metadata": {},
     "output_type": "execute_result"
    }
   ],
   "source": [
    "#1\n",
    "from sklearn.svm import SVC\n",
    "from sklearn.tree import DecisionTreeClassifier\n",
    "\n",
    "#2\n",
    "\n",
    "# SVC classifier\n",
    "svm = SVC(random_state=0)\n",
    "\n",
    "# Decision tree classifier\n",
    "decision_tree = DecisionTreeClassifier(max_depth=3,random_state=0)\n",
    "\n",
    "#3\n",
    "svm.fit(X_train, y_train)\n",
    "decision_tree.fit(X_train, y_train)"
   ]
  },
  {
   "cell_type": "markdown",
   "id": "0870b0d2",
   "metadata": {},
   "source": [
    "### Step 4: Validate Model \n",
    "\n",
    "Calculate the average training and validation accuracy using `cross_validate` for the two different models listed in Step 3. For this case, use `scoring='accuracy'`"
   ]
  },
  {
   "cell_type": "code",
   "execution_count": 134,
   "id": "178c8c96",
   "metadata": {},
   "outputs": [
    {
     "name": "stdout",
     "output_type": "stream",
     "text": [
      "\n",
      "Score for SVC\n",
      "training accuracy (cross-validation) 0.673\n",
      "validation accuracy (cross-validation) 0.649\n",
      "\n",
      "Score for Decision Tree\n",
      "training accuracy (cross-validation) 0.993\n",
      "validation accuracy (cross-validation) 0.922\n"
     ]
    }
   ],
   "source": [
    "\n",
    "#4\n",
    "#IMPORTANT: I re-used the function I created from step 3 in q1, this will give the cross validate results\n",
    "ta_sv_1, var_sv_1 = print_accuracy_validation(\"SVC\", model=svm, X_train=X_train, y_train=y_train, cv_scoring='accuracy',negate=1)\n",
    "ta_dt_1, var_dt_1 = print_accuracy_validation(\"Decision Tree\", model=decision_tree, X_train=X_train, y_train=y_train, cv_scoring='accuracy',negate=1)"
   ]
  },
  {
   "cell_type": "markdown",
   "id": "bb0bbd83",
   "metadata": {},
   "source": [
    "### Step 5: Visualize Results (4 marks)\n",
    "\n",
    "#### Step 5.1: Compare Models\n",
    "1. Create a pandas DataFrame `results` with columns: Training accuracy and Validation accuracy\n",
    "2. Add the data size, training and validation accuracy for each dataset to the `results` DataFrame\n",
    "3. Print `results`"
   ]
  },
  {
   "cell_type": "code",
   "execution_count": 144,
   "id": "be4b5c0a",
   "metadata": {},
   "outputs": [
    {
     "name": "stdout",
     "output_type": "stream",
     "text": [
      "Scoring: Accuracy\n",
      "          Size  Training accuracy  Validation accuracy\n",
      "SVC  (178, 13)           0.672597             0.648522\n",
      "DT   (178, 13)           0.992967             0.922414\n"
     ]
    }
   ],
   "source": [
    "# TO DO: ADD YOUR CODE HERE FOR STEPS 5\n",
    "# Note: for any random state parameters, you can use random_state = 0\n",
    "acc_results_list = [[X.shape, ta_sv_1, var_sv_1],[X.shape, ta_dt_1, var_dt_1]] \n",
    "results_q2 = pd.DataFrame(acc_results_list,columns=[\"Size\",\"Training accuracy\", \"Validation accuracy\"], index=['SVC', 'DT'])\n",
    "print(\"Scoring: Accuracy\")\n",
    "print(results_q2)\n",
    "\n",
    "#Real scores: not cross validated\n",
    "#val1_p = svm.score(X_test, y_test)\n",
    "#val2_p = decision_tree.score(X_test, y_test)\n",
    "\n"
   ]
  },
  {
   "cell_type": "markdown",
   "id": "f2e17878",
   "metadata": {},
   "source": [
    "#### Step 5.2: Visualize Classification Errors\n",
    "Which method gave the highest accuracy? Use this method to print the confusion matrix and classification report:"
   ]
  },
  {
   "cell_type": "code",
   "execution_count": 159,
   "id": "44b091a4",
   "metadata": {},
   "outputs": [
    {
     "name": "stdout",
     "output_type": "stream",
     "text": [
      "Scores of test data:\n",
      "0.9444444444444444\n",
      "0.8055555555555556\n"
     ]
    }
   ],
   "source": [
    "# TO DO: Implement best model\n",
    "y_pred_dt = decision_tree.predict(X_test)\n",
    "y_pred_sv = svm.predict(X_test)\n",
    "\n",
    "y_sco_dt = decision_tree.score(X_test, y_test)\n",
    "y_sco_sv = svm.score(X_test, y_test)\n",
    "\n",
    "print(\"Scores of test data:\")\n",
    "print(y_sco_dt)\n",
    "print(y_sco_sv)\n",
    "\n",
    "# The method that gave the highest accuracy is the decision Tree\n"
   ]
  },
  {
   "cell_type": "code",
   "execution_count": 165,
   "id": "09d21b59",
   "metadata": {},
   "outputs": [
    {
     "name": "stdout",
     "output_type": "stream",
     "text": [
      "(36,)\n"
     ]
    },
    {
     "data": {
      "text/plain": [
       "<AxesSubplot: >"
      ]
     },
     "execution_count": 165,
     "metadata": {},
     "output_type": "execute_result"
    },
    {
     "data": {
      "image/png": "[encoded data removed]",
      "text/plain": [
       "<Figure size 800x550 with 2 Axes>"
      ]
     },
     "metadata": {},
     "output_type": "display_data"
    }
   ],
   "source": [
    "# TO DO: Print confusion matrix using a heatmap\n",
    "from sklearn.metrics import ConfusionMatrixDisplay\n",
    "from sklearn.metrics import confusion_matrix\n",
    "\n",
    "cm_dt = confusion_matrix(y_test, y_pred_dt)\n",
    "print(y_test.shape)\n",
    "sns.heatmap(cm_dt, annot=True, fmt='d', cmap='Blues')\n",
    "\n",
    "#ConfusionMatrixDisplay.from_predictions(y_test, \n",
    " #                                       decision_tree.predict(X_test),                             \n",
    "  #                                      cmap='rocket',\n",
    "   #                                     colorbar=False);"
   ]
  },
  {
   "cell_type": "code",
   "execution_count": 153,
   "id": "5ef95947",
   "metadata": {},
   "outputs": [
    {
     "name": "stdout",
     "output_type": "stream",
     "text": [
      "              precision    recall  f1-score   support\n",
      "\n",
      "           1       1.00      0.93      0.96        14\n",
      "           2       0.88      1.00      0.93        14\n",
      "           3       1.00      0.88      0.93         8\n",
      "\n",
      "    accuracy                           0.94        36\n",
      "   macro avg       0.96      0.93      0.94        36\n",
      "weighted avg       0.95      0.94      0.94        36\n",
      "\n"
     ]
    }
   ],
   "source": [
    "# TO DO: Print classification report\n",
    "from sklearn.metrics import classification_report\n",
    "print(classification_report(y_test, y_pred_dt))"
   ]
  },
  {
   "cell_type": "markdown",
   "id": "bf319621",
   "metadata": {},
   "source": [
    "### Questions (6 marks)\n",
    "1. How do the training and validation accuracy change depending on the method used? Explain with values.\n",
    "1. What are two reasons why the support vector machines model did not work as well as the tree-based model?\n",
    "1. How many samples were incorrectly classified in step 5.2? \n",
    "1. In this case, is maximizing precision or recall more important? Why?\n",
    "\n",
    "*YOUR ANSWERS HERE*\n",
    "\n",
    "1. The cross validation for SVC was much lower compared to the decision tree E.g for validation accuracy SVC was `0.65` and decision tree was `0.92`. \n",
    "2. In the assignment, we were not required to scale the data for the SVC. As per lecture, the decision tree consider each feature seperatly. Therefore, the comparative magnitude of the features doesn’t matter. However, the SVC needs the data to be scaled. Therefore, we should scale the data for the SVC to work properly. Also we can graphsearch or tweak the hyper parameters\n",
    "3. Using decision tree model, 2 samples were incorrectly classified (94% accuracy)\n",
    "4. In this case, maximizing percision should be more important in the wine dataset. Depending on the situation the summary: Recall if false negative is more important, Percision if false positive is more important\n"
   ]
  },
  {
   "cell_type": "markdown",
   "id": "664ff8ae",
   "metadata": {},
   "source": [
    "### Process Description (4 marks)\n",
    "Please describe the process you used to create your code. Cite any websites or generative AI tools used. You can use the following questions as guidance:\n",
    "1. Where did you source your code?\n",
    "1. In what order did you complete the steps?\n",
    "1. If you used generative AI, what prompts did you use? Did you need to modify the code at all? Why or why not?\n",
    "1. Did you have any challenges? If yes, what were they? If not, what helped you to be successful?"
   ]
  },
  {
   "cell_type": "markdown",
   "id": "d0e837da",
   "metadata": {},
   "source": [
    "*DESCRIBE YOUR PROCESS HERE*\n",
    "\n",
    "\n",
    "\n",
    "1. Where did you source your code?\n",
    " - Code is based on a combination of lectures examples and documentation from scikit learn\n",
    "  - Lecture slides adopted from: <cite>Introduction to Machine Learning with Python, Müller and Guido, 1st ed, 2016 https://github.com/amueller/introduction_to_ml_with_python</cite>\n",
    "  - Scikit learn general documentation available at: <cite> https://scikit-learn.org/stable/ </cite>\n",
    "  - Wine dataset: <cite> https://archive.ics.uci.edu/dataset/109/wine </cite>\n",
    "2. In what order did you complete the steps?\n",
    "  - The order of the steps was done as per the assignment, steps 1-5 as it seemed logically\n",
    "3. If you used generative AI, what prompts did you use? Did you need to modify the code at all? Why or why not?\n",
    "  - Similar to assignment 2, I explicitly avoided using any generative AI throughout this process so I can learn while doing the assignment\n",
    "4. Did you have any challenges? If yes, what were they? If not, what helped you to be successful?\n",
    "  - No major challenges, examples on D2L really helped me a lot. "
   ]
  },
  {
   "cell_type": "markdown",
   "id": "4cd7358d",
   "metadata": {},
   "source": [
    "## Part 3: Observations/Interpretation (3 marks)\n",
    "\n",
    "Describe any pattern you see in the results. Relate your findings to what we discussed during lectures. Include data to justify your findings.\n",
    "\n",
    "\n",
    "My observation include: \n",
    " - Random forest does indeed create better results than decision tree as see in Q1 (E.g ~0.7 vs ~0.8 R2 score)\n",
    " - The training scores for some of the models was pretty close to 1, this suggests overfitting\n",
    " - SVC model needed the scaler or gridsearch to be more effective. Right now it does not yield great accuracy\n",
    " - GB proved to be a good model for the concrete dataset (E.g ~0.9 R2 score)\n",
    " - DT proved to be a good model for the wine dataset (E.g ~0.92 R2 score)"
   ]
  },
  {
   "cell_type": "markdown",
   "id": "cd97b6ac",
   "metadata": {},
   "source": [
    "## Part 4: Reflection (2 marks)\n",
    "Include a sentence or two about:\n",
    "- what you liked or disliked,\n",
    "- found interesting, confusing, challangeing, motivating\n",
    "while working on this assignment.\n",
    "\n",
    "\n",
    "*ADD YOUR THOUGHTS HERE*\n",
    "\n",
    "what you liked or disliked: \n",
    "- I liked that we went through multiple examples of non-linear models involving classification and regression \n",
    "\n",
    "found interesting, confusing, challangeing, motivating:\n",
    "- It was intersting how the non linear model created pretty good results in comparison to the linear model. Addtionally, the example datasets were intersting and motivating"
   ]
  },
  {
   "cell_type": "markdown",
   "id": "fa21e53b",
   "metadata": {},
   "source": [
    "## Part 5: Bonus Question (3 marks)\n",
    "\n",
    "Repeat Part 2 and compare the support vector machines model used to `LinearSVC(max_iter=5000)`. Does using `LinearSVC` improve the results? Why or why not?\n",
    "\n",
    "Is `LinearSVC` a good fit for this dataset? Why or why not?"
   ]
  },
  {
   "cell_type": "code",
   "execution_count": 167,
   "id": "30fea72e",
   "metadata": {},
   "outputs": [
    {
     "name": "stderr",
     "output_type": "stream",
     "text": [
      "c:\\Users\\Mido\\anaconda3\\envs\\ensf-ml\\lib\\site-packages\\sklearn\\svm\\_base.py:1244: ConvergenceWarning: Liblinear failed to converge, increase the number of iterations.\n",
      "  warnings.warn(\n",
      "c:\\Users\\Mido\\anaconda3\\envs\\ensf-ml\\lib\\site-packages\\sklearn\\svm\\_base.py:1244: ConvergenceWarning: Liblinear failed to converge, increase the number of iterations.\n",
      "  warnings.warn(\n"
     ]
    },
    {
     "name": "stdout",
     "output_type": "stream",
     "text": [
      "\n",
      "Score for Linear SVC\n"
     ]
    },
    {
     "name": "stderr",
     "output_type": "stream",
     "text": [
      "c:\\Users\\Mido\\anaconda3\\envs\\ensf-ml\\lib\\site-packages\\sklearn\\svm\\_base.py:1244: ConvergenceWarning: Liblinear failed to converge, increase the number of iterations.\n",
      "  warnings.warn(\n",
      "c:\\Users\\Mido\\anaconda3\\envs\\ensf-ml\\lib\\site-packages\\sklearn\\svm\\_base.py:1244: ConvergenceWarning: Liblinear failed to converge, increase the number of iterations.\n",
      "  warnings.warn(\n",
      "c:\\Users\\Mido\\anaconda3\\envs\\ensf-ml\\lib\\site-packages\\sklearn\\svm\\_base.py:1244: ConvergenceWarning: Liblinear failed to converge, increase the number of iterations.\n",
      "  warnings.warn(\n",
      "c:\\Users\\Mido\\anaconda3\\envs\\ensf-ml\\lib\\site-packages\\sklearn\\svm\\_base.py:1244: ConvergenceWarning: Liblinear failed to converge, increase the number of iterations.\n",
      "  warnings.warn(\n"
     ]
    },
    {
     "name": "stdout",
     "output_type": "stream",
     "text": [
      "training accuracy (cross-validation) 0.926\n",
      "validation accuracy (cross-validation) 0.888\n",
      "[1 1 3 1 2 1 2 3 2 3 1 3 1 2 1 2 2 2 1 2 1 2 1 3 3 3 2 1 2 1 1 2 3 1 1 1]\n",
      "0.9444444444444444\n",
      "(36,)\n"
     ]
    },
    {
     "data": {
      "text/plain": [
       "<AxesSubplot: >"
      ]
     },
     "execution_count": 167,
     "metadata": {},
     "output_type": "execute_result"
    },
    {
     "data": {
      "image/png": "[encoded data removed]",
      "text/plain": [
       "<Figure size 800x550 with 2 Axes>"
      ]
     },
     "metadata": {},
     "output_type": "display_data"
    }
   ],
   "source": [
    "# TO DO: ADD YOUR CODE HERE\n",
    "# Decision tree classifier\n",
    "from sklearn.svm import LinearSVC\n",
    "\n",
    "linear_svm = LinearSVC(max_iter=5000).fit(X_train, y_train)\n",
    "\n",
    "ta_lsv_1, var_lsv_1 = print_accuracy_validation(\"Linear SVC\", model=linear_svm, X_train=X_train, y_train=y_train, cv_scoring='accuracy',negate=1)\n",
    "\n",
    "#Test data set, no cross\n",
    "y_pred_lsv = linear_svm.predict(X_test)\n",
    "y_sco_lsv = linear_svm.score(X_test, y_test)\n",
    "\n",
    "print(y_pred_lsv)\n",
    "print(y_sco_lsv)\n",
    "\n",
    "cm_lsv = confusion_matrix(y_test, y_pred_lsv)\n",
    "print(y_test.shape)\n",
    "sns.heatmap(cm_lsv, annot=True, fmt='d', cmap='Blues')"
   ]
  },
  {
   "cell_type": "markdown",
   "id": "aabc68a4",
   "metadata": {},
   "source": [
    "*ANSWER HERE*\n",
    "\n",
    "Based on the accuracy shown above, the confusion matrix, and the hyper parameter used Linear SVC is a good model to use."
   ]
  },
  {
   "cell_type": "code",
   "execution_count": null,
   "id": "241c3b12",
   "metadata": {},
   "outputs": [],
   "source": []
  }
 ],
 "metadata": {
  "kernelspec": {
   "display_name": "Python 3 (ipykernel)",
   "language": "python",
   "name": "python3"
  },
  "language_info": {
   "codemirror_mode": {
    "name": "ipython",
    "version": 3
   },
   "file_extension": ".py",
   "mimetype": "text/x-python",
   "name": "python",
   "nbconvert_exporter": "python",
   "pygments_lexer": "ipython3",
   "version": "3.8.18"
  }
 },
 "nbformat": 4,
 "nbformat_minor": 5
}
